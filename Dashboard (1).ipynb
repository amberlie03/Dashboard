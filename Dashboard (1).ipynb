{
 "cells": [
  {
   "cell_type": "markdown",
   "metadata": {},
   "source": [
    "[DIY Disease Tracking Dashboard Kit](https://github.com/fsmeraldi/diy-covid19dash) (C) Fabrizio Smeraldi, 2020,2024 ([f.smeraldi@qmul.ac.uk](mailto:f.smeraldi@qmul.ac.uk) - [web](http://www.eecs.qmul.ac.uk/~fabri/)). This notebook is released under the [GNU GPLv3.0 or later](https://www.gnu.org/licenses/)."
   ]
  },
  {
   "cell_type": "markdown",
   "metadata": {},
   "source": [
    "# COVID Tracking Dashboard"
   ]
  },
  {
   "cell_type": "code",
   "execution_count": 57,
   "metadata": {},
   "outputs": [],
   "source": [
    "from IPython.display import clear_output\n",
    "import ipywidgets as wdg\n",
    "import pandas as pd\n",
    "import numpy as np\n",
    "import matplotlib.pyplot as plt\n",
    "import requests\n",
    "import time\n",
    "import json"
   ]
  },
  {
   "cell_type": "code",
   "execution_count": 58,
   "metadata": {},
   "outputs": [],
   "source": [
    "%matplotlib inline\n",
    "# make figures larger\n",
    "plt.rcParams['figure.dpi'] = 100"
   ]
  },
  {
   "cell_type": "markdown",
   "metadata": {},
   "source": [
    "## Extracting Public Health Care Data\n",
    "\n",
    "During the Pandemic, Public Health England (PHE) launched a Covid-19 dashboard. This timely service came with an Application Programming Interface (API) allowing users programmatic access to the data for the purpose of creating visualisations or data analysis. Interestingly, it also included a wrapper library written in Python, that made access to the data seamless. At the end of 2023, the PHE dashboard was replaced by the UK Health Security Agency dashboard (UKHSA dashboard). This new API, at the time of writing in the Beta stage, includes data on various infectious diseases including respiratory and gastrointestinal, bloodstream infections, and vaccine-preventable diseases. The data are better organised and documented, and many of the quirks of the old API have been fixed. An interesting feature of the new system is that all of its code has been open-sourced.\n",
    "\n",
    "The data was extracted from UKHSA dashboard using an API wrapper to the convert the raw data to JSON format. The data that we are looking at shows the rolling average number of cases over the 7 day period per 100,000 population ending on the dates shown. New cases are reported by specimen date - the date the first sample that identified the infection was taken from an individual. We explore the rolling mean of cases across different age groups for the year of 2020."
   ]
  },
  {
   "cell_type": "markdown",
   "metadata": {},
   "source": [
    "## Load initial data from disk\n",
    "\n",
    "The raw data was loaded and assigned to the variable ```jsondata```."
   ]
  },
  {
   "cell_type": "code",
   "execution_count": 59,
   "metadata": {},
   "outputs": [],
   "source": [
    "with open(\"RollingMeancases.json\", \"rt\") as INFILE:\n",
    "    jsondata = json.load(INFILE)"
   ]
  },
  {
   "cell_type": "markdown",
   "metadata": {},
   "source": [
    "## Wrangle the data\n",
    "\n",
    "Using a function that called the JSON file, the data was wrangled into a Data Frame to use for future plotting.\n",
    "\n",
    "The function extracted the key values we wanted to look at, in this case age and dates, to become the index of the data frame where the columns contain our data. The function retrieves these points and brings everything together into a dictionary with the dates as keys, and inner dictionaries with metrics. The dates are extracted and sorted, then parsed to account for any missing dates.\n",
    "\n",
    "The same was done for the ages where they were extracted from the columns so that the data frame could be defined. I used the date range as an index, but with a weekly spacing and the sorted age groups as columns. The data frame was filled in by looping over the dates and filling in with the corresponding values.\n"
   ]
  },
  {
   "cell_type": "code",
   "execution_count": 60,
   "metadata": {},
   "outputs": [],
   "source": [
    "from datetime import datetime\n",
    "\n",
    "def parse_date(s):\n",
    "    return datetime.strptime(s, \"%Y-%m-%d\")\n",
    "\n",
    "def wrangle_data(rawdata):\n",
    "    data={}\n",
    "    for entry in rawdata:\n",
    "        date=entry['date']\n",
    "        age=entry['age']\n",
    "        value=entry['metric_value']\n",
    "        if date not in data:\n",
    "            data[date]={}\n",
    "        data[date][age]=value\n",
    "\n",
    "    dates = list(data.keys())\n",
    "    dates.sort()\n",
    "    startdate = parse_date(dates[0])\n",
    "    enddate = parse_date(dates[-1])\n",
    "\n",
    "    age=[]\n",
    "    for entry in data.values():\n",
    "        for x in entry.keys():\n",
    "            if x not in age:\n",
    "                age.append(x)\n",
    "    age.sort()\n",
    "\n",
    "    index=pd.date_range(startdate, enddate, freq='W-MON')\n",
    "    df=pd.DataFrame(index=index, columns=age)\n",
    "\n",
    "    for date, entry in data.items():\n",
    "        pd_date=parse_date(date) \n",
    "        if pd_date in df.index:\n",
    "            for column in entry.keys(): \n",
    "                df.loc[date, column]=entry[column]\n",
    "\n",
    "    df.fillna(0.0, inplace=True)\n",
    "    df = df.apply(pd.to_numeric, errors='coerce')\n",
    "    return df\n"
   ]
  },
  {
   "cell_type": "code",
   "execution_count": 61,
   "metadata": {},
   "outputs": [],
   "source": [
    "df=wrangle_data(jsondata)"
   ]
  },
  {
   "cell_type": "markdown",
   "metadata": {},
   "source": [
    "## Download current data"
   ]
  },
  {
   "cell_type": "markdown",
   "metadata": {},
   "source": [
    "I created a call code to access the API and gave users an option to refresh the dataset if needed. The button callback allows the call code to access the API and download fresh raw data and wrangle that data into a dataframe to update the corresponding variables. \n",
    "\n",
    "The ipywidgets library provides a Button class that implements a clickable button. This is a function that is passed as a parameter to the on_click method of the Button object, that in turn calls it when it is clicked. The callback function is passed the Button object itself as a parameter (which is useful if more than one button, for instance, shares the same callback). "
   ]
  },
  {
   "cell_type": "code",
   "execution_count": 62,
   "metadata": {},
   "outputs": [],
   "source": [
    "def access_api():\n",
    "    return jsondata  "
   ]
  },
  {
   "cell_type": "code",
   "execution_count": 63,
   "metadata": {},
   "outputs": [
    {
     "data": {
      "application/vnd.jupyter.widget-view+json": {
       "model_id": "48e8505ca2c04d7fa9244432fe451894",
       "version_major": 2,
       "version_minor": 0
      },
      "text/plain": [
       "Button(description='Refresh data', icon='download', style=ButtonStyle(), tooltip='Click to download current Pu…"
      ]
     },
     "metadata": {},
     "output_type": "display_data"
    }
   ],
   "source": [
    "def api_button_callback(button):\n",
    "    \"\"\" Button callback - it must take the button as its parameter (unused in this case).\n",
    "    Accesses API, wrangles data, updates global variable df used for plotting. \"\"\"\n",
    "    apibutton.on_click(access_api)\n",
    "    display(apibutton)\n",
    "    apidata=access_api()\n",
    "\n",
    "    global df\n",
    "    df=wrangle_data(apidata)\n",
    "    refresh_graph()\n",
    "\n",
    "   \n",
    "apibutton=wdg.Button(\n",
    "    description='Refresh data',\n",
    "    disabled=False,\n",
    "    button_style='',\n",
    "    tooltip='Click to download current Public Health England data',\n",
    "    icon='download')\n",
    "\n",
    "apibutton.on_click(api_button_callback) \n",
    "\n",
    "display(apibutton)\n"
   ]
  },
  {
   "cell_type": "markdown",
   "metadata": {},
   "source": [
    "## Graphs and Analysis"
   ]
  },
  {
   "cell_type": "markdown",
   "metadata": {},
   "source": [
    "The first graph is an interactive plot displaying the rolling mean number of cases along the Y axis and dates along the X axis for the year 2020. The user can select which age group they would like to look at specifically.\n",
    "\n",
    "Graph two uses the JSON file and converts to a pickle file with the dataframe. "
   ]
  },
  {
   "cell_type": "code",
   "execution_count": 64,
   "metadata": {},
   "outputs": [
    {
     "data": {
      "application/vnd.jupyter.widget-view+json": {
       "model_id": "147e2e60d4ba438eb9219e297bda8830",
       "version_major": 2,
       "version_minor": 0
      },
      "text/plain": [
       "Dropdown(description='Age Group:', index=20, options=('00-04', '05-09', '10-14', '15-19', '20-24', '25-29', '3…"
      ]
     },
     "metadata": {},
     "output_type": "display_data"
    },
    {
     "data": {
      "application/vnd.jupyter.widget-view+json": {
       "model_id": "2f01b0bb25004102bc9ea1f840c96556",
       "version_major": 2,
       "version_minor": 0
      },
      "text/plain": [
       "Output()"
      ]
     },
     "metadata": {},
     "output_type": "display_data"
    }
   ],
   "source": [
    "age_selector = wdg.Dropdown(\n",
    "    options=sorted(df.columns),\n",
    "    value='all',\n",
    "    description='Age Group:',\n",
    "    disabled=False\n",
    ")\n",
    "\n",
    "# Plot function\n",
    "def plot_age_group(selected_age):\n",
    "    plt.figure(figsize=(12, 6))\n",
    "    df[selected_age].plot(color='blue', label=selected_age)\n",
    "    plt.title(f\"Rolling Mean COVID-19 Cases for Age Group: {selected_age}\")\n",
    "    plt.xlabel(\"Date\")\n",
    "    plt.ylabel(\"Rolling Mean Case Rate\")\n",
    "    plt.grid(True)\n",
    "    plt.legend()\n",
    "    plt.tight_layout()\n",
    "    plt.show()\n",
    "\n",
    "graph = wdg.interactive_output(plot_age_group, {'selected_age': age_selector})\n",
    "\n",
    "display(age_selector, graph)"
   ]
  },
  {
   "cell_type": "code",
   "execution_count": 71,
   "metadata": {},
   "outputs": [],
   "source": [
    "df.to_pickle(\"RollingMeandf.pkl\")"
   ]
  },
  {
   "cell_type": "code",
   "execution_count": 72,
   "metadata": {},
   "outputs": [],
   "source": [
    "rollingmeandf=pd.read_pickle(\"RollingMeandf.pkl\")"
   ]
  },
  {
   "cell_type": "code",
   "execution_count": 73,
   "metadata": {},
   "outputs": [],
   "source": [
    "rollingmeandf = rollingmeandf.apply(pd.to_numeric, errors='coerce',axis=0)"
   ]
  },
  {
   "cell_type": "code",
   "execution_count": 74,
   "metadata": {},
   "outputs": [
    {
     "data": {
      "application/vnd.jupyter.widget-view+json": {
       "model_id": "5593abc394194064aa63658fc14fd93d",
       "version_major": 2,
       "version_minor": 0
      },
      "text/plain": [
       "Select(description='Month', index=10, options=('February', 'March', 'April', 'May', 'June', 'July', 'August', …"
      ]
     },
     "metadata": {},
     "output_type": "display_data"
    },
    {
     "data": {
      "application/vnd.jupyter.widget-view+json": {
       "model_id": "2b16cdebd6304ee0988edcd3c3e13490",
       "version_major": 2,
       "version_minor": 0
      },
      "text/plain": [
       "Output()"
      ]
     },
     "metadata": {},
     "output_type": "display_data"
    }
   ],
   "source": [
    "import calendar \n",
    "\n",
    "month_numbers = sorted(rollingmeandf.index.month.unique())\n",
    "month_names = [calendar.month_name[m] for m in month_numbers]\n",
    "month_map = dict(zip(month_names, month_numbers))\n",
    "\n",
    "month=wdg.Select(\n",
    "    options=month_names, \n",
    "    value=month_names[-1], \n",
    "    rows=1, \n",
    "    description='Month',\n",
    "    disabled=False\n",
    ")\n",
    "\n",
    "def rollingmean_graph(graphmonth):\n",
    "    graphmonth_num = month_map[graphmonth]\n",
    "\n",
    "    monthdf=rollingmeandf[rollingmeandf.index.month==graphmonth_num]\n",
    "    weekly= monthdf.groupby(pd.Grouper(freq='1W')).mean() \n",
    "    totals=weekly.sum(axis=1) \n",
    "    weekly=weekly.div(totals, axis=0)*100\n",
    "    weekly = weekly[::-1]\n",
    "    ax=weekly.plot(kind='barh', stacked=True,cmap='tab20')\n",
    "    ax.legend(loc='center left',bbox_to_anchor=(1.0, 0.5))\n",
    "    ax.set_yticklabels(weekly.index.strftime('%Y-%m-%d'))\n",
    "    plt.show()\n",
    "    \n",
    "output=wdg.interactive_output(rollingmean_graph, {'graphmonth': month})\n",
    "\n",
    "display(month, output)"
   ]
  },
  {
   "cell_type": "markdown",
   "metadata": {},
   "source": [
    "**Author and License** Remember that if you deploy your dashboard as a Binder it will be publicly accessible. Change the copyright notice and take credit for your work! Also acknowledge your sources and the conditions of the license by including this notice: \"Based on UK Government [data](https://ukhsa-dashboard.data.gov.uk/) published by the [UK Health Security Agency](https://www.gov.uk/government/organisations/uk-health-security-agency) and on the [DIY Disease Tracking Dashboard Kit](https://github.com/fsmeraldi/diy-covid19dash) by Fabrizio Smeraldi. Released under the [GNU GPLv3.0 or later](https://www.gnu.org/licenses/).\""
   ]
  }
 ],
 "metadata": {
  "kernelspec": {
   "display_name": "Python 3 (ipykernel)",
   "language": "python",
   "name": "python3"
  },
  "language_info": {
   "codemirror_mode": {
    "name": "ipython",
    "version": 3
   },
   "file_extension": ".py",
   "mimetype": "text/x-python",
   "name": "python",
   "nbconvert_exporter": "python",
   "pygments_lexer": "ipython3",
   "version": "3.11.9"
  }
 },
 "nbformat": 4,
 "nbformat_minor": 4
}
